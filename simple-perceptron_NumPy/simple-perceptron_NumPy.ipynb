{
 "cells": [
  {
   "cell_type": "markdown",
   "id": "961ac1a8-d456-4ec2-96aa-f060a5aa4461",
   "metadata": {
    "_cell_guid": "b1076dfc-b9ad-4769-8c92-a6c4dae69d19",
    "_uuid": "8f2839f25d086af736a60e9eeb907d3b93b6e0e5",
    "papermill": {
     "duration": 0.128227,
     "end_time": "2021-07-30T15:55:22.477337",
     "exception": false,
     "start_time": "2021-07-30T15:55:22.349110",
     "status": "completed"
    },
    "tags": []
   },
   "source": [
    "#### Simple perceptron implemented in NumPy using simple feedback learning\n",
    "Dataset from: https://www.kaggle.com/praveengovi/emotions-dataset-for-nlp"
   ]
  },
  {
   "cell_type": "code",
   "execution_count": 1,
   "id": "5800389d-feda-4a23-a154-2a738fdcac44",
   "metadata": {},
   "outputs": [],
   "source": [
    "import numpy as np\n",
    "import pandas as pd\n",
    "import matplotlib.pyplot as plt"
   ]
  },
  {
   "cell_type": "code",
   "execution_count": 2,
   "id": "ec206866",
   "metadata": {
    "papermill": {
     "duration": 0.129591,
     "end_time": "2021-07-30T15:55:22.630946",
     "exception": false,
     "start_time": "2021-07-30T15:55:22.501355",
     "status": "completed"
    },
    "tags": []
   },
   "outputs": [],
   "source": [
    "# loading the dataset\n",
    "df_train = pd.read_csv('data/train.txt', names=['Text', 'Emotion'], sep=';')\n",
    "df_test = pd.read_csv('data/test.txt', names=['Text', 'Emotion'], sep=';')"
   ]
  },
  {
   "cell_type": "code",
   "execution_count": 3,
   "id": "45b67a79",
   "metadata": {},
   "outputs": [],
   "source": [
    "x_train = df_train['Text']\n",
    "y_train = df_train['Emotion']\n",
    "\n",
    "x_test = df_test['Text']\n",
    "y_test = df_test['Emotion']\n",
    "\n",
    "# show the head of the train dataset (head of 'data/train.txt')\n",
    "#df_train.head()"
   ]
  },
  {
   "cell_type": "code",
   "execution_count": 4,
   "id": "7d9b94da",
   "metadata": {
    "papermill": {
     "duration": 0.797748,
     "end_time": "2021-07-30T15:55:23.506460",
     "exception": false,
     "start_time": "2021-07-30T15:55:22.708712",
     "status": "completed"
    },
    "tags": []
   },
   "outputs": [
    {
     "data": {
      "text/plain": [
       "joy         5362\n",
       "sadness     4666\n",
       "anger       2159\n",
       "fear        1937\n",
       "love        1304\n",
       "surprise     572\n",
       "Name: Emotion, dtype: int64"
      ]
     },
     "execution_count": 4,
     "metadata": {},
     "output_type": "execute_result"
    }
   ],
   "source": [
    "df_train.Emotion.value_counts()"
   ]
  },
  {
   "cell_type": "code",
   "execution_count": 5,
   "id": "9de64e8f",
   "metadata": {},
   "outputs": [],
   "source": [
    "# Data will be preprocessed to only get positive and negative sentiment.\n",
    "\n",
    "# label encoding\n",
    "y_train = y_train.replace({'joy':1, 'sadness':0, 'anger':0, 'fear':0, 'love':1, 'surprise':1})\n",
    "y_test = y_test.replace({'joy':1, 'sadness':0, 'anger':0, 'fear':0, 'love':1, 'surprise':1})"
   ]
  },
  {
   "cell_type": "code",
   "execution_count": 6,
   "id": "e45acbde",
   "metadata": {},
   "outputs": [],
   "source": [
    "from sklearn.feature_extraction.text import TfidfVectorizer\n",
    "tfidf = TfidfVectorizer(sublinear_tf=True, min_df=5)#, stop_words='english')\n",
    "\n",
    "# transform each text into a vector\n",
    "x_train = tfidf.fit_transform(x_train).toarray()\n",
    "x_test = tfidf.transform(x_test).toarray()"
   ]
  },
  {
   "cell_type": "code",
   "execution_count": 7,
   "id": "6dd38370",
   "metadata": {},
   "outputs": [],
   "source": [
    "def evaluator(y_test, y_pred):\n",
    "    from sklearn.metrics import confusion_matrix\n",
    "    from sklearn.metrics import accuracy_score\n",
    "    from sklearn.metrics import precision_score\n",
    "    from sklearn.metrics import recall_score\n",
    "    from sklearn.metrics import f1_score\n",
    "    return_list = []\n",
    "    return_list.append(confusion_matrix(y_test, y_pred))\n",
    "    return_list.append(accuracy_score(y_test, y_pred))\n",
    "    return_list.append(precision_score(y_test, y_pred, average='macro'))\n",
    "    return_list.append(recall_score(y_test, y_pred, average='macro'))\n",
    "    return_list.append(f1_score(y_test, y_pred, average='macro'))\n",
    "    return return_list"
   ]
  },
  {
   "cell_type": "code",
   "execution_count": 8,
   "id": "141ff2cd",
   "metadata": {},
   "outputs": [],
   "source": [
    "class SimpleFeedbackLearning(object):\n",
    "    def __init__(self, learning_rate, n_iters):\n",
    "        self.history = {}\n",
    "        self.history['train_acc'] = []\n",
    "        self.history['test_acc'] = []\n",
    "        self.learning_rate = learning_rate\n",
    "        self.n_iters = n_iters\n",
    "        \n",
    "    # activation function\n",
    "    def f(self, x):\n",
    "        fx = np.where(x > 0.5, 1, 0)\n",
    "        return fx\n",
    "    \n",
    "    def train(self, x, y, x_test, y_test, verbose=True):\n",
    "        n_train, input_size = x.shape\n",
    "        n_test = x_test.shape[0]\n",
    "        # weight initialization\n",
    "        self.W = np.zeros(input_size)\n",
    "        self.b = np.zeros(1) # bias\n",
    "\n",
    "        for i in range(self.n_iters):\n",
    "            for xi, yi in zip(x, y):\n",
    "                \n",
    "                # forward and output\n",
    "                output = self.f(np.matmul(self.W, xi) + self.b)\n",
    "\n",
    "                # updating weights and biases\n",
    "                if output > yi:\n",
    "                    self.W -= self.learning_rate * xi\n",
    "                    self.b -= self.learning_rate * 1\n",
    "                elif output < yi:\n",
    "                    self.W += self.learning_rate * xi\n",
    "                    self.b += self.learning_rate * 1\n",
    "                    \n",
    "            # calculate the accuracy and save the training history\n",
    "            train_acc = (self.predict(x) == y).sum() / n_train\n",
    "            test_acc = (self.predict(x_test) == y_test).sum() / n_test\n",
    "            self.history['train_acc'].append(train_acc)\n",
    "            self.history['test_acc'].append(test_acc)\n",
    "            if verbose:\n",
    "                print('Epoch %d: train accuracy %.4f, test accuracy %.4f' % (i + 1, train_acc, test_acc))\n",
    "\n",
    "    # prediction function\n",
    "    def predict(self, x):\n",
    "        y_pred = self.f(np.matmul(x, self.W) + self.b)\n",
    "        return y_pred"
   ]
  },
  {
   "cell_type": "code",
   "execution_count": 9,
   "id": "5ff486a5",
   "metadata": {},
   "outputs": [
    {
     "name": "stdout",
     "output_type": "stream",
     "text": [
      "Epoch 1: train accuracy 0.9012, test accuracy 0.8855\n",
      "Epoch 2: train accuracy 0.9287, test accuracy 0.9085\n",
      "Epoch 3: train accuracy 0.9369, test accuracy 0.9220\n",
      "Epoch 4: train accuracy 0.9409, test accuracy 0.9205\n",
      "Epoch 5: train accuracy 0.9591, test accuracy 0.9390\n",
      "Epoch 6: train accuracy 0.9651, test accuracy 0.9315\n",
      "Epoch 7: train accuracy 0.9597, test accuracy 0.9225\n",
      "Epoch 8: train accuracy 0.9660, test accuracy 0.9370\n",
      "Epoch 9: train accuracy 0.9669, test accuracy 0.9290\n",
      "Epoch 10: train accuracy 0.9703, test accuracy 0.9285\n",
      "Epoch 11: train accuracy 0.9699, test accuracy 0.9300\n",
      "Epoch 12: train accuracy 0.9729, test accuracy 0.9350\n",
      "Epoch 13: train accuracy 0.9767, test accuracy 0.9340\n",
      "Epoch 14: train accuracy 0.9756, test accuracy 0.9335\n",
      "Epoch 15: train accuracy 0.9749, test accuracy 0.9360\n",
      "Epoch 16: train accuracy 0.9791, test accuracy 0.9350\n",
      "Epoch 17: train accuracy 0.9742, test accuracy 0.9350\n",
      "Epoch 18: train accuracy 0.9786, test accuracy 0.9380\n",
      "Epoch 19: train accuracy 0.9754, test accuracy 0.9265\n",
      "Epoch 20: train accuracy 0.8799, test accuracy 0.8615\n",
      "Epoch 21: train accuracy 0.9816, test accuracy 0.9345\n",
      "Epoch 22: train accuracy 0.8914, test accuracy 0.8705\n",
      "Epoch 23: train accuracy 0.8765, test accuracy 0.8595\n",
      "Epoch 24: train accuracy 0.9838, test accuracy 0.9370\n",
      "Epoch 25: train accuracy 0.8954, test accuracy 0.8795\n",
      "Epoch 26: train accuracy 0.9877, test accuracy 0.9380\n",
      "Epoch 27: train accuracy 0.8959, test accuracy 0.8740\n",
      "Epoch 28: train accuracy 0.9853, test accuracy 0.9325\n",
      "Epoch 29: train accuracy 0.9828, test accuracy 0.9350\n",
      "Epoch 30: train accuracy 0.8954, test accuracy 0.8705\n",
      "Epoch 31: train accuracy 0.8964, test accuracy 0.8720\n",
      "Epoch 32: train accuracy 0.9903, test accuracy 0.9405\n",
      "Epoch 33: train accuracy 0.9893, test accuracy 0.9335\n",
      "Epoch 34: train accuracy 0.8998, test accuracy 0.8775\n",
      "Epoch 35: train accuracy 0.9028, test accuracy 0.8835\n",
      "Epoch 36: train accuracy 0.9884, test accuracy 0.9370\n",
      "Epoch 37: train accuracy 0.9849, test accuracy 0.9305\n",
      "Epoch 38: train accuracy 0.9106, test accuracy 0.8815\n",
      "Epoch 39: train accuracy 0.9881, test accuracy 0.9340\n",
      "Epoch 40: train accuracy 0.9867, test accuracy 0.9355\n",
      "Epoch 41: train accuracy 0.9896, test accuracy 0.9315\n",
      "Epoch 42: train accuracy 0.9881, test accuracy 0.9280\n",
      "Epoch 43: train accuracy 0.9010, test accuracy 0.8795\n",
      "Epoch 44: train accuracy 0.9019, test accuracy 0.8785\n",
      "Epoch 45: train accuracy 0.9902, test accuracy 0.9285\n",
      "Epoch 46: train accuracy 0.9064, test accuracy 0.8805\n",
      "Epoch 47: train accuracy 0.9882, test accuracy 0.9315\n",
      "Epoch 48: train accuracy 0.9856, test accuracy 0.9265\n",
      "Epoch 49: train accuracy 0.9852, test accuracy 0.9280\n",
      "Epoch 50: train accuracy 0.9858, test accuracy 0.9315\n",
      "Epoch 51: train accuracy 0.9885, test accuracy 0.9345\n",
      "Epoch 52: train accuracy 0.9889, test accuracy 0.9305\n",
      "Epoch 53: train accuracy 0.9898, test accuracy 0.9330\n",
      "Epoch 54: train accuracy 0.9877, test accuracy 0.9290\n",
      "Epoch 55: train accuracy 0.9889, test accuracy 0.9270\n",
      "Epoch 56: train accuracy 0.9894, test accuracy 0.9315\n",
      "Epoch 57: train accuracy 0.9906, test accuracy 0.9265\n",
      "Epoch 58: train accuracy 0.9865, test accuracy 0.9250\n",
      "Epoch 59: train accuracy 0.9888, test accuracy 0.9315\n",
      "Epoch 60: train accuracy 0.9868, test accuracy 0.9300\n",
      "Epoch 61: train accuracy 0.9851, test accuracy 0.9275\n",
      "Epoch 62: train accuracy 0.9893, test accuracy 0.9315\n",
      "Epoch 63: train accuracy 0.9889, test accuracy 0.9325\n",
      "Epoch 64: train accuracy 0.9889, test accuracy 0.9295\n",
      "Epoch 65: train accuracy 0.9901, test accuracy 0.9300\n",
      "Epoch 66: train accuracy 0.9838, test accuracy 0.9345\n",
      "Epoch 67: train accuracy 0.9888, test accuracy 0.9305\n",
      "Epoch 68: train accuracy 0.9894, test accuracy 0.9300\n",
      "Epoch 69: train accuracy 0.9899, test accuracy 0.9300\n",
      "Epoch 70: train accuracy 0.9914, test accuracy 0.9330\n",
      "Epoch 71: train accuracy 0.9833, test accuracy 0.9350\n",
      "Epoch 72: train accuracy 0.9902, test accuracy 0.9330\n",
      "Epoch 73: train accuracy 0.9871, test accuracy 0.9275\n",
      "Epoch 74: train accuracy 0.9861, test accuracy 0.9285\n",
      "Epoch 75: train accuracy 0.9895, test accuracy 0.9310\n",
      "Epoch 76: train accuracy 0.9862, test accuracy 0.9280\n",
      "Epoch 77: train accuracy 0.9868, test accuracy 0.9395\n",
      "Epoch 78: train accuracy 0.9889, test accuracy 0.9295\n",
      "Epoch 79: train accuracy 0.9894, test accuracy 0.9365\n",
      "Epoch 80: train accuracy 0.9869, test accuracy 0.9340\n",
      "Epoch 81: train accuracy 0.9851, test accuracy 0.9345\n",
      "Epoch 82: train accuracy 0.9902, test accuracy 0.9325\n",
      "Epoch 83: train accuracy 0.9893, test accuracy 0.9320\n",
      "Epoch 84: train accuracy 0.9894, test accuracy 0.9300\n",
      "Epoch 85: train accuracy 0.9895, test accuracy 0.9305\n",
      "Epoch 86: train accuracy 0.9879, test accuracy 0.9340\n",
      "Epoch 87: train accuracy 0.9894, test accuracy 0.9300\n",
      "Epoch 88: train accuracy 0.9914, test accuracy 0.9340\n",
      "Epoch 89: train accuracy 0.9909, test accuracy 0.9330\n",
      "Epoch 90: train accuracy 0.9886, test accuracy 0.9340\n",
      "Epoch 91: train accuracy 0.9855, test accuracy 0.9345\n",
      "Epoch 92: train accuracy 0.9920, test accuracy 0.9360\n",
      "Epoch 93: train accuracy 0.9889, test accuracy 0.9315\n",
      "Epoch 94: train accuracy 0.9911, test accuracy 0.9330\n",
      "Epoch 95: train accuracy 0.9906, test accuracy 0.9315\n",
      "Epoch 96: train accuracy 0.9868, test accuracy 0.9330\n",
      "Epoch 97: train accuracy 0.9906, test accuracy 0.9300\n",
      "Epoch 98: train accuracy 0.9884, test accuracy 0.9325\n",
      "Epoch 99: train accuracy 0.9907, test accuracy 0.9270\n",
      "Epoch 100: train accuracy 0.9922, test accuracy 0.9320\n",
      "Epoch 101: train accuracy 0.9882, test accuracy 0.9345\n",
      "Epoch 102: train accuracy 0.9874, test accuracy 0.9245\n",
      "Epoch 103: train accuracy 0.9901, test accuracy 0.9335\n",
      "Epoch 104: train accuracy 0.9912, test accuracy 0.9320\n",
      "Epoch 105: train accuracy 0.9893, test accuracy 0.9350\n",
      "Epoch 106: train accuracy 0.9866, test accuracy 0.9315\n",
      "Epoch 107: train accuracy 0.9896, test accuracy 0.9275\n",
      "Epoch 108: train accuracy 0.9904, test accuracy 0.9330\n",
      "Epoch 109: train accuracy 0.9885, test accuracy 0.9335\n",
      "Epoch 110: train accuracy 0.9922, test accuracy 0.9300\n",
      "Epoch 111: train accuracy 0.9893, test accuracy 0.9330\n",
      "Epoch 112: train accuracy 0.9877, test accuracy 0.9285\n",
      "Epoch 113: train accuracy 0.9905, test accuracy 0.9295\n",
      "Epoch 114: train accuracy 0.9874, test accuracy 0.9270\n",
      "Epoch 115: train accuracy 0.9889, test accuracy 0.9270\n",
      "Epoch 116: train accuracy 0.9874, test accuracy 0.9305\n",
      "Epoch 117: train accuracy 0.9900, test accuracy 0.9300\n",
      "Epoch 118: train accuracy 0.9915, test accuracy 0.9290\n",
      "Epoch 119: train accuracy 0.9933, test accuracy 0.9340\n",
      "Epoch 120: train accuracy 0.9887, test accuracy 0.9280\n",
      "Epoch 121: train accuracy 0.9928, test accuracy 0.9300\n",
      "Epoch 122: train accuracy 0.9922, test accuracy 0.9280\n",
      "Epoch 123: train accuracy 0.9930, test accuracy 0.9325\n",
      "Epoch 124: train accuracy 0.9853, test accuracy 0.9290\n",
      "Epoch 125: train accuracy 0.9934, test accuracy 0.9330\n",
      "Epoch 126: train accuracy 0.9892, test accuracy 0.9275\n",
      "Epoch 127: train accuracy 0.9919, test accuracy 0.9325\n",
      "Epoch 128: train accuracy 0.9887, test accuracy 0.9290\n",
      "Epoch 129: train accuracy 0.9879, test accuracy 0.9290\n",
      "Epoch 130: train accuracy 0.9922, test accuracy 0.9290\n",
      "Epoch 131: train accuracy 0.9878, test accuracy 0.9280\n",
      "Epoch 132: train accuracy 0.9864, test accuracy 0.9280\n",
      "Epoch 133: train accuracy 0.9859, test accuracy 0.9285\n",
      "Epoch 134: train accuracy 0.9923, test accuracy 0.9310\n",
      "Epoch 135: train accuracy 0.9862, test accuracy 0.9280\n",
      "Epoch 136: train accuracy 0.9870, test accuracy 0.9250\n",
      "Epoch 137: train accuracy 0.9891, test accuracy 0.9305\n",
      "Epoch 138: train accuracy 0.9938, test accuracy 0.9325\n",
      "Epoch 139: train accuracy 0.9889, test accuracy 0.9275\n",
      "Epoch 140: train accuracy 0.9896, test accuracy 0.9245\n",
      "Epoch 141: train accuracy 0.9898, test accuracy 0.9270\n",
      "Epoch 142: train accuracy 0.9884, test accuracy 0.9290\n",
      "Epoch 143: train accuracy 0.9899, test accuracy 0.9285\n",
      "Epoch 144: train accuracy 0.9903, test accuracy 0.9290\n",
      "Epoch 145: train accuracy 0.9892, test accuracy 0.9305\n",
      "Epoch 146: train accuracy 0.9908, test accuracy 0.9280\n",
      "Epoch 147: train accuracy 0.9872, test accuracy 0.9275\n",
      "Epoch 148: train accuracy 0.9931, test accuracy 0.9320\n",
      "Epoch 149: train accuracy 0.9948, test accuracy 0.9355\n",
      "Epoch 150: train accuracy 0.9942, test accuracy 0.9345\n"
     ]
    }
   ],
   "source": [
    "# initializing and training the model\n",
    "model1 = SimpleFeedbackLearning(learning_rate=0.01, n_iters=150)\n",
    "model1.train(x_train, y_train, x_test, y_test, verbose=True)"
   ]
  },
  {
   "cell_type": "code",
   "execution_count": 10,
   "id": "5f96a63c",
   "metadata": {},
   "outputs": [
    {
     "data": {
      "image/png": "[encoded data removed]",
      "text/plain": [
       "<Figure size 432x288 with 1 Axes>"
      ]
     },
     "metadata": {
      "needs_background": "light"
     },
     "output_type": "display_data"
    }
   ],
   "source": [
    "# plot the accuracy\n",
    "plt.plot(model1.history['train_acc'], label='train_acc')\n",
    "plt.plot(model1.history['test_acc'], label='test_acc')\n",
    "plt.legend()\n",
    "plt.show()"
   ]
  },
  {
   "cell_type": "code",
   "execution_count": 11,
   "id": "fac3fa4e-0d20-44e0-b350-63b354fd3fc7",
   "metadata": {},
   "outputs": [
    {
     "name": "stdout",
     "output_type": "stream",
     "text": [
      "The confusion matrix: \n",
      "[[991  89]\n",
      " [ 42 878]]\n",
      "The accuracy: \n",
      "0.9345\n",
      "The precision: \n",
      "0.9336522472973068\n",
      "The recall score: \n",
      "0.9359702093397746\n",
      "The F1 score: \n",
      "0.9342902380122947\n"
     ]
    }
   ],
   "source": [
    "# evaluating the model with the test set\n",
    "\n",
    "y_pred = model1.predict(x_test)\n",
    "eval_list = evaluator(y_test, y_pred)\n",
    "\n",
    "print(\"The confusion matrix: \")\n",
    "print(eval_list[0])\n",
    "\n",
    "print(\"The accuracy: \")\n",
    "print(eval_list[1])\n",
    "\n",
    "print(\"The precision: \")\n",
    "print(eval_list[2])\n",
    "\n",
    "print(\"The recall score: \")\n",
    "print(eval_list[3])\n",
    "\n",
    "print(\"The F1 score: \")\n",
    "print(eval_list[4])"
   ]
  }
 ],
 "metadata": {
  "kernelspec": {
   "display_name": "Python [conda env:root] *",
   "language": "python",
   "name": "conda-root-py"
  },
  "language_info": {
   "codemirror_mode": {
    "name": "ipython",
    "version": 3
   },
   "file_extension": ".py",
   "mimetype": "text/x-python",
   "name": "python",
   "nbconvert_exporter": "python",
   "pygments_lexer": "ipython3",
   "version": "3.9.10"
  },
  "papermill": {
   "default_parameters": {},
   "duration": 94.692615,
   "end_time": "2021-07-30T15:56:50.140202",
   "environment_variables": {},
   "exception": null,
   "input_path": "__notebook__.ipynb",
   "output_path": "__notebook__.ipynb",
   "parameters": {},
   "start_time": "2021-07-30T15:55:15.447587",
   "version": "2.3.3"
  },
  "vscode": {
   "interpreter": {
    "hash": "31f2aee4e71d21fbe5cf8b01ff0e069b9275f58929596ceb00d14d90e3e16cd6"
   }
  }
 },
 "nbformat": 4,
 "nbformat_minor": 5
}
